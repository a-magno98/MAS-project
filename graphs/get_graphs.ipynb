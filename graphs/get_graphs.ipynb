{
 "cells": [
  {
   "cell_type": "code",
   "execution_count": 1,
   "id": "59919d02",
   "metadata": {},
   "outputs": [],
   "source": [
    "import networkx as nx"
   ]
  },
  {
   "cell_type": "code",
   "execution_count": 2,
   "id": "1dbf0546",
   "metadata": {},
   "outputs": [],
   "source": [
    "G = nx.karate_club_graph()\n",
    "file_nodes = 'karate_club/nodes.txt'\n",
    "file_links = 'karate_club/links.txt'"
   ]
  },
  {
   "cell_type": "code",
   "execution_count": 3,
   "id": "0db860ca",
   "metadata": {},
   "outputs": [],
   "source": [
    "f = open(file_nodes, \"w\")\n",
    "\n",
    "for n in G.nodes():\n",
    "    f.write(str(n)+\"\\n\")\n",
    "\n",
    "f.close()"
   ]
  },
  {
   "cell_type": "code",
   "execution_count": 4,
   "id": "8aa10e89",
   "metadata": {},
   "outputs": [],
   "source": [
    "f2 = open(file_links, \"w\")\n",
    "for pair in G.edges():\n",
    "    f2.write(str(pair[0])+\" \"+str(pair[1])+\"\\n\")\n",
    "f2.close()"
   ]
  },
  {
   "cell_type": "code",
   "execution_count": 31,
   "id": "1154052a",
   "metadata": {},
   "outputs": [],
   "source": [
    "G2 = nx.read_edgelist('p2p-Gnutella08.txt', create_using=nx.DiGraph(), nodetype=int)"
   ]
  },
  {
   "cell_type": "code",
   "execution_count": 32,
   "id": "e5d34474",
   "metadata": {},
   "outputs": [],
   "source": [
    "G2 = G2.to_undirected()"
   ]
  },
  {
   "cell_type": "code",
   "execution_count": 34,
   "id": "40889de3",
   "metadata": {},
   "outputs": [],
   "source": [
    "file_n = 'p2p-Gnutella08/nodes.txt'\n",
    "file_l = 'p2p-Gnutella08/links.txt'"
   ]
  },
  {
   "cell_type": "code",
   "execution_count": 36,
   "id": "62204e99",
   "metadata": {},
   "outputs": [],
   "source": [
    "f3 = open(file_n, \"w\")\n",
    "for n in G2.nodes():\n",
    "    f3.write(str(n)+\"\\n\")\n",
    "f3.close()"
   ]
  },
  {
   "cell_type": "code",
   "execution_count": 39,
   "id": "9e4d6895",
   "metadata": {},
   "outputs": [],
   "source": [
    "f4 = open(file_l, \"w\")\n",
    "for pair in G2.edges():\n",
    "    f4.write(str(pair[0])+\" \"+str(pair[1])+\"\\n\")\n",
    "f4.close()"
   ]
  },
  {
   "cell_type": "code",
   "execution_count": null,
   "id": "921f4b7a",
   "metadata": {},
   "outputs": [],
   "source": []
  }
 ],
 "metadata": {
  "kernelspec": {
   "display_name": "Python 3",
   "language": "python",
   "name": "python3"
  },
  "language_info": {
   "codemirror_mode": {
    "name": "ipython",
    "version": 3
   },
   "file_extension": ".py",
   "mimetype": "text/x-python",
   "name": "python",
   "nbconvert_exporter": "python",
   "pygments_lexer": "ipython3",
   "version": "3.7.10"
  }
 },
 "nbformat": 4,
 "nbformat_minor": 5
}
